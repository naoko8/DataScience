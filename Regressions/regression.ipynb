{
  "nbformat": 4,
  "nbformat_minor": 0,
  "metadata": {
    "colab": {
      "name": "regression.ipynb",
      "provenance": [],
      "authorship_tag": "ABX9TyNocas5qGyGrSxzXt9Sh/S1",
      "include_colab_link": true
    },
    "kernelspec": {
      "name": "python3",
      "display_name": "Python 3"
    },
    "language_info": {
      "name": "python"
    }
  },
  "cells": [
    {
      "cell_type": "markdown",
      "metadata": {
        "id": "view-in-github",
        "colab_type": "text"
      },
      "source": [
        "<a href=\"https://colab.research.google.com/github/naoko8/DataScience/blob/main/regression.ipynb\" target=\"_parent\"><img src=\"https://colab.research.google.com/assets/colab-badge.svg\" alt=\"Open In Colab\"/></a>"
      ]
    },
    {
      "cell_type": "code",
      "execution_count": 4,
      "metadata": {
        "colab": {
          "base_uri": "https://localhost:8080/"
        },
        "id": "tmrI8r5AHmO2",
        "outputId": "d47bb873-44d1-489a-b665-44181fe7d658"
      },
      "outputs": [
        {
          "output_type": "stream",
          "name": "stdout",
          "text": [
            "Mounted at /content/drive/\n"
          ]
        }
      ],
      "source": [
        "from google.colab import drive\n",
        "drive.mount('/content/drive/')\n"
      ]
    },
    {
      "cell_type": "code",
      "source": [
        "import pandas as pd\n",
        "from sklearn.model_selection import train_test_split #ტესტირებისთვის\n",
        "from sklearn.linear_model import LinearRegression  #წრფივი რეგრესიისთვის\n",
        "from sklearn.linear_model import Ridge #რიდჯ რეგრესიისთვის\n",
        "from sklearn import preprocessing\n"
      ],
      "metadata": {
        "id": "IBWHK6GXH0vD"
      },
      "execution_count": 5,
      "outputs": []
    },
    {
      "cell_type": "code",
      "source": [
        "myauto = pd.read_csv(\"/content/drive/My Drive/MyWork/Projects/Data/Auto.csv\")\n",
        "myauto.columns = myauto.columns.map(lambda x: x.strip())  #გაასუფთავებს \n",
        "myauto.isna().sum() #ამოწმებს არის თუ არა ფაილში ცარიელი ადგილებ"
      ],
      "metadata": {
        "id": "2uBx7gWZIAT9"
      },
      "execution_count": 27,
      "outputs": []
    },
    {
      "cell_type": "code",
      "source": [
        "myauto = myauto.dropna() #აშორებს ცარიელ ადგილებს\n",
        "y = myauto[\"mpg\"] #Y გადავცემთ mpg სვეტის მონაცემებს \n",
        "X = myauto.drop([\"mpg\", \"name\"], axis=\"columns\")\n"
      ],
      "metadata": {
        "id": "1eFUbOB8dkHS"
      },
      "execution_count": 38,
      "outputs": []
    },
    {
      "cell_type": "code",
      "source": [
        "X.isna().sum()"
      ],
      "metadata": {
        "colab": {
          "base_uri": "https://localhost:8080/"
        },
        "id": "NvnDw_6af1kP",
        "outputId": "2c0322b8-a48e-447d-d1d5-744b5337dad8"
      },
      "execution_count": 40,
      "outputs": [
        {
          "output_type": "execute_result",
          "data": {
            "text/plain": [
              "cylinders       0\n",
              "displacement    0\n",
              "horsepower      0\n",
              "weight          0\n",
              "acceleration    0\n",
              "year            0\n",
              "origin          0\n",
              "dtype: int64"
            ]
          },
          "metadata": {},
          "execution_count": 40
        }
      ]
    },
    {
      "cell_type": "code",
      "source": [
        "#მონაცემებს ვამუშავებთ\n",
        "min_max_scaler = preprocessing.MinMaxScaler()\n",
        "x_scaled = min_max_scaler.fit_transform(X)\n",
        "X = pd.DataFrame(x_scaled)\n"
      ],
      "metadata": {
        "id": "0l_nT11of2GQ"
      },
      "execution_count": 48,
      "outputs": []
    },
    {
      "cell_type": "code",
      "source": [
        "X_train,X_test,y_train,y_test = train_test_split(X,y,test_size=0.25,random_state=7) #ვტესტავთ\n"
      ],
      "metadata": {
        "id": "CN0aWltiiJL3"
      },
      "execution_count": 51,
      "outputs": []
    },
    {
      "cell_type": "code",
      "source": [
        "ridge = Ridge(alpha=1.0) #ალფას ვცვლით\n",
        "modelLinearRegression = LinearRegression()\n",
        "ridge.fit(X_train,y_train)\n",
        "modelLinearRegression.fit(X_train,y_train)\n"
      ],
      "metadata": {
        "colab": {
          "base_uri": "https://localhost:8080/"
        },
        "id": "RQjTrneniW6b",
        "outputId": "eb572d18-1c17-4f08-ea23-151c4ead764c"
      },
      "execution_count": 52,
      "outputs": [
        {
          "output_type": "execute_result",
          "data": {
            "text/plain": [
              "LinearRegression()"
            ]
          },
          "metadata": {},
          "execution_count": 52
        }
      ]
    },
    {
      "cell_type": "code",
      "source": [
        "print(ridge.predict(X_test))\n",
        "print(ridge.score(X_test,y_test))\n"
      ],
      "metadata": {
        "colab": {
          "base_uri": "https://localhost:8080/"
        },
        "id": "DnYdzdreoVF7",
        "outputId": "08bed3d7-5b0d-4590-af51-732aa26b4d1e"
      },
      "execution_count": 54,
      "outputs": [
        {
          "output_type": "stream",
          "name": "stdout",
          "text": [
            "[29.35669234 25.42746253 17.35933367 29.04304571 23.85759955 27.19800243\n",
            " 22.6585793  23.46441076 27.18604102 27.12702923 25.35901076 27.26988838\n",
            " 26.66269362 14.98098014 13.12729601 20.73108926 24.63849697 30.62443096\n",
            " 23.65427739 19.49654269 27.77172498 31.30641719 14.17582697 26.43060807\n",
            " 25.30926453 21.05552259 12.09651326 22.10971977 17.18644241 35.34203094\n",
            " 35.70376889 31.92132843 12.83484751  7.52924572 27.13042205 22.65733919\n",
            " 26.12892694 27.78015646 16.73332432 16.89433417 34.24193793 16.46428965\n",
            " 10.00353909 28.0376049  25.82677152 28.24363397 22.86413723 33.12038038\n",
            " 26.78974348 20.14688595 28.34693696 26.61141085 31.47551714 14.36983601\n",
            " 13.68337245 20.81975346 17.83088439 28.8456298  17.01395176 25.63645185\n",
            " 30.00286062 16.74225434  9.20739687 32.5863088  19.91531028 29.51561897\n",
            " 26.64839364 30.48112722 24.81580423 30.28647053 32.63417331 14.57162911\n",
            " 31.85868722 28.44392465 30.8509166  17.84725066 31.78821656 24.49026288\n",
            " 26.22769766 29.41430654 28.13956413 27.32375288 25.53966738 13.28443511\n",
            " 34.69370615 13.43994398 20.18848223 31.70626974 28.86688092 32.40844536\n",
            " 18.47411645 30.22276375 19.48896053 21.8353893  14.54393307 11.87242497\n",
            " 14.52113249 11.84694817]\n",
            "0.7926294188189682\n"
          ]
        }
      ]
    },
    {
      "cell_type": "code",
      "source": [
        "print(modelLinearRegression.predict(X_test))\n",
        "# print(modelLinearRegression.score(X_test,y_test))\n"
      ],
      "metadata": {
        "colab": {
          "base_uri": "https://localhost:8080/"
        },
        "id": "vIthkjQVogKd",
        "outputId": "921e39d7-0fe1-477e-eb00-8cb6116a20de"
      },
      "execution_count": 55,
      "outputs": [
        {
          "output_type": "stream",
          "name": "stdout",
          "text": [
            "[29.2636318  25.26517999 17.63192113 28.34120154 23.76028665 28.26485631\n",
            " 22.94778368 23.59833461 27.80471111 26.84508669 25.08170026 26.72647597\n",
            " 26.4066127  14.82226485 12.61254243 20.94039089 24.26424971 31.16852071\n",
            " 23.7915805  19.72090386 27.95830774 31.74175044 14.24782966 26.35276095\n",
            " 24.57127187 21.58076818 12.38541226 22.02751501 16.85802229 36.0577802\n",
            " 36.28399421 32.48882991 13.05967898  5.61112412 27.49792092 22.18736489\n",
            " 25.88459544 28.06893606 16.6143115  17.52617101 34.85880248 16.43012323\n",
            "  9.74178519 27.99402399 25.70767585 28.55692844 22.65335007 33.75862874\n",
            " 26.94113386 20.93134257 28.33925689 26.47093035 31.88498873 14.59477857\n",
            " 12.74687612 20.37299348 17.58794053 28.66936464 16.03211797 25.20231496\n",
            " 29.99210662 16.33191537  7.8020244  31.77658055 20.27975879 29.93746554\n",
            " 26.23366676 30.71932503 24.64640599 30.68417652 32.91621979 14.11032124\n",
            " 31.85318746 28.98744816 31.05360397 17.72810869 31.55749705 23.32597493\n",
            " 25.92236201 29.44033579 28.45160527 27.19968533 25.59017126 12.41323383\n",
            " 35.08068185 13.42452243 20.72948063 32.29983862 27.5823194  32.79926024\n",
            " 18.43253731 30.90015651 19.61263597 21.63544462 14.79197919 11.52220846\n",
            " 14.94545166 12.12889487]\n"
          ]
        }
      ]
    },
    {
      "cell_type": "code",
      "source": [
        ""
      ],
      "metadata": {
        "id": "VS45Q7nKog_S"
      },
      "execution_count": null,
      "outputs": []
    }
  ]
}
