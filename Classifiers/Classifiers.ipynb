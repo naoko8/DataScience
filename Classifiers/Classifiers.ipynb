{
  "nbformat": 4,
  "nbformat_minor": 0,
  "metadata": {
    "colab": {
      "name": "Classifiers.ipynb",
      "provenance": [],
      "authorship_tag": "ABX9TyNDnNXzkjhSkW7FX54yC/Do",
      "include_colab_link": true
    },
    "kernelspec": {
      "name": "python3",
      "display_name": "Python 3"
    },
    "language_info": {
      "name": "python"
    }
  },
  "cells": [
    {
      "cell_type": "markdown",
      "metadata": {
        "id": "view-in-github",
        "colab_type": "text"
      },
      "source": [
        "<a href=\"https://colab.research.google.com/github/naoko8/DataScience/blob/main/Classifiers.ipynb\" target=\"_parent\"><img src=\"https://colab.research.google.com/assets/colab-badge.svg\" alt=\"Open In Colab\"/></a>"
      ]
    },
    {
      "cell_type": "code",
      "execution_count": 1,
      "metadata": {
        "colab": {
          "base_uri": "https://localhost:8080/"
        },
        "id": "VkSkVxyFpzHE",
        "outputId": "69765500-c479-4bb6-bb56-76f9c570ba14"
      },
      "outputs": [
        {
          "output_type": "stream",
          "name": "stdout",
          "text": [
            "Mounted at /content/drive/\n"
          ]
        }
      ],
      "source": [
        "from google.colab import drive\n",
        "drive.mount('/content/drive/')\n"
      ]
    },
    {
      "cell_type": "code",
      "source": [
        "import pandas as pd\n",
        "import numpy as np\n",
        "from sklearn.neighbors import KNeighborsClassifier\n",
        "from sklearn.tree import DecisionTreeClassifier \n",
        "from sklearn.ensemble import GradientBoostingClassifier \n",
        "from sklearn.ensemble import RandomForestClassifier\n",
        "from sklearn import preprocessing \n",
        "from sklearn.model_selection import train_test_split   \n",
        "from sklearn.linear_model import Ridge\n",
        "from sklearn import metrics"
      ],
      "metadata": {
        "id": "HC3k5ytfqGLA"
      },
      "execution_count": 2,
      "outputs": []
    },
    {
      "cell_type": "code",
      "source": [
        "diabetes = pd.read_csv(\"/content/drive/My Drive/MyWork/Projects/Data/Diabetes.csv\")\n",
        "diabetes.columns = diabetes.columns.map(lambda x: x.strip()) \n",
        "Features = diabetes.drop(\"Outcome\",axis='columns')\n",
        "Target = diabetes[\"Outcome\"].values\n",
        "print(\"Columns where 0 exists: \")\n",
        "print(Features.columns[Features.isin([0]).any()] ) \n",
        "Features.replace(0,Features.mean(axis=0),inplace=True)\n",
        "Features = Features.values \n",
        "X_train,X_test,y_train,y_test = train_test_split(Features,Target,test_size = 0.2,random_state=10) #დატრენინგება და დატესტვა"
      ],
      "metadata": {
        "colab": {
          "base_uri": "https://localhost:8080/"
        },
        "id": "dEtuNxM6qGTK",
        "outputId": "33320656-7da2-4def-d5ed-f01c7c5ed259"
      },
      "execution_count": 12,
      "outputs": [
        {
          "output_type": "stream",
          "name": "stdout",
          "text": [
            "Columns where 0 exists: \n",
            "Index(['Pregnancies', 'Glucose', 'BloodPressure', 'SkinThickness', 'Insulin',\n",
            "       'BMI'],\n",
            "      dtype='object')\n"
          ]
        }
      ]
    },
    {
      "cell_type": "code",
      "source": [
        "knn = KNeighborsClassifier(n_neighbors=6) #k=6\n",
        "knn.fit(X_train,y_train) #ვაძლევ დასატრეინინგებლად\n",
        "print(f\"knn classifier training score: {knn.score(X_train,y_train)}\") \n",
        "print(f\"knn classifier testing score: {knn.score(X_test,y_test)}\") \n"
      ],
      "metadata": {
        "colab": {
          "base_uri": "https://localhost:8080/"
        },
        "id": "zWPoiCsEsbNL",
        "outputId": "aa808b10-85a7-4a2f-9d06-40a6752cdc0e"
      },
      "execution_count": 20,
      "outputs": [
        {
          "output_type": "stream",
          "name": "stdout",
          "text": [
            "knn classifier training score: 0.8061889250814332\n",
            "knn classifier testing score: 0.7077922077922078\n"
          ]
        }
      ]
    }
  ]
}
